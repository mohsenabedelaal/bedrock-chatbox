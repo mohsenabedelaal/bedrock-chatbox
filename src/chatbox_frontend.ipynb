{
 "cells": [
  {
   "cell_type": "code",
   "execution_count": 6,
   "metadata": {},
   "outputs": [
    {
     "name": "stdout",
     "output_type": "stream",
     "text": [
      "response\n",
      "client=<botocore.client.BedrockRuntime object at 0x0000014844298290> region_name='us-east-1' credentials_profile_name='mohsen-bedrock' model_id='meta.llama3-70b-instruct-v1:0' model_kwargs={'max_gen_len': 128, 'temperature': 0.1, 'top_p': 0.9}\n"
     ]
    }
   ],
   "source": [
    "import streamlit as st\n",
    "import chatbot_backend as demo"
   ]
  },
  {
   "cell_type": "code",
   "execution_count": 2,
   "metadata": {},
   "outputs": [
    {
     "name": "stderr",
     "output_type": "stream",
     "text": [
      "2024-08-12 11:39:32.331 \n",
      "  \u001b[33m\u001b[1mWarning:\u001b[0m to view this Streamlit app on a browser, run it with the following\n",
      "  command:\n",
      "\n",
      "    streamlit run c:\\Users\\MohsenAbedelaal\\Desktop\\personal\\bedrock-chatbox-cdk\\src\\venv\\Lib\\site-packages\\ipykernel_launcher.py [ARGUMENTS]\n"
     ]
    },
    {
     "data": {
      "text/plain": [
       "DeltaGenerator()"
      ]
     },
     "execution_count": 2,
     "metadata": {},
     "output_type": "execute_result"
    }
   ],
   "source": [
    "st.title(\"Hi, This is Chatbox Incrowd \")"
   ]
  },
  {
   "cell_type": "code",
   "execution_count": 7,
   "metadata": {},
   "outputs": [],
   "source": [
    "if 'memory' not in st.session_state:\n",
    "    st.session_state.memory = demo.demo_memory()"
   ]
  },
  {
   "cell_type": "code",
   "execution_count": 4,
   "metadata": {},
   "outputs": [],
   "source": [
    "if 'chat_history' not in st.session_state:\n",
    "    st.session_state.chat_history = []"
   ]
  },
  {
   "cell_type": "code",
   "execution_count": 5,
   "metadata": {},
   "outputs": [],
   "source": [
    "for message in st.session_state.chat_history:\n",
    "    with st.chat_message(message[\"role\"]):\n",
    "        st.markdown(message[\"text\"])"
   ]
  },
  {
   "cell_type": "code",
   "execution_count": 8,
   "metadata": {},
   "outputs": [],
   "source": [
    "input_text = st.chat_input(\"Chat with Apollo Bot here\")"
   ]
  },
  {
   "cell_type": "code",
   "execution_count": null,
   "metadata": {},
   "outputs": [],
   "source": [
    "if input_text:\n",
    "    with st.chat_message(\"user\"):\n",
    "        st.markdown(input_text)\n",
    "    st.session_state.chat_history.append({\"role\":\"user\",\"text\":input_text})\n",
    "    chat_response = demo.demo_conversation(input_text=input_text,memory=st.session_state.memory)\n",
    "    with st.chat_message(\"assistant\"):\n",
    "        st.markdown(chat_response)\n",
    "\n",
    "    st.session_state.chat_history.append({\"role\":\"assistant\",\"text\":chat_response})"
   ]
  }
 ],
 "metadata": {
  "kernelspec": {
   "display_name": "venv",
   "language": "python",
   "name": "python3"
  },
  "language_info": {
   "codemirror_mode": {
    "name": "ipython",
    "version": 3
   },
   "file_extension": ".py",
   "mimetype": "text/x-python",
   "name": "python",
   "nbconvert_exporter": "python",
   "pygments_lexer": "ipython3",
   "version": "3.12.5"
  }
 },
 "nbformat": 4,
 "nbformat_minor": 2
}
