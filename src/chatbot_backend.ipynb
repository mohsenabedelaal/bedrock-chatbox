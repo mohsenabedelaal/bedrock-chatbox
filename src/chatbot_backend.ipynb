{
 "cells": [
  {
   "cell_type": "code",
   "execution_count": 9,
   "metadata": {},
   "outputs": [],
   "source": [
    "from langchain.chains.conversation.base import ConversationChain\n",
    "from langchain.memory import ConversationSummaryBufferMemory\n",
    "from langchain_aws import ChatBedrock\n",
    "from langchain.prompts import ChatPromptTemplate"
   ]
  },
  {
   "cell_type": "code",
   "execution_count": 10,
   "metadata": {},
   "outputs": [],
   "source": [
    "def demo_chatbot():\n",
    "    max_gen_len = 128\n",
    "    temperature = 0.1\n",
    "    top_p = 0.9\n",
    "    demo_llm = ChatBedrock(\n",
    "        credentials_profile_name=\"mohsen-bedrock\",\n",
    "        model_id=\"meta.llama3-70b-instruct-v1:0\",\n",
    "        model_kwargs={\n",
    "            \"max_gen_len\": max_gen_len,\n",
    "            \"temperature\": temperature,\n",
    "            \"top_p\": top_p\n",
    "        },\n",
    "        region_name=\"us-east-1\"\n",
    "    )\n",
    "    return demo_llm"
   ]
  },
  {
   "cell_type": "code",
   "execution_count": 17,
   "metadata": {},
   "outputs": [],
   "source": [
    "def demo_memory():\n",
    "    llm_data = demo_chatbot()\n",
    "    memory = ConversationSummaryBufferMemory(llm=llm_data,max_token_limit=300)\n",
    "    return memory"
   ]
  },
  {
   "cell_type": "code",
   "execution_count": 12,
   "metadata": {},
   "outputs": [],
   "source": [
    "def demo_conversation(input_text,memory):\n",
    "    llm_chain_data = demo_chatbot()\n",
    "    llm_conversation = ConversationChain(\n",
    "        llm=llm_chain_data,\n",
    "        memory=memory,\n",
    "        verbose=True\n",
    "    )\n",
    "    chat_reply = llm_conversation.invoke(input_text)\n",
    "    return chat_reply"
   ]
  },
  {
   "cell_type": "code",
   "execution_count": 16,
   "metadata": {},
   "outputs": [
    {
     "name": "stdout",
     "output_type": "stream",
     "text": [
      "\n",
      "\n",
      "\u001b[1m> Entering new ConversationChain chain...\u001b[0m\n",
      "Prompt after formatting:\n",
      "\u001b[32;1m\u001b[1;3mThe following is a friendly conversation between a human and an AI. The AI is talkative and provides lots of specific details from its context. If the AI does not know the answer to a question, it truthfully says it does not know.\n",
      "\n",
      "Current conversation:\n",
      "\n",
      "Human: tell me about your self \n",
      "AI:\u001b[0m\n",
      "\n",
      "\u001b[1m> Finished chain.\u001b[0m\n"
     ]
    },
    {
     "data": {
      "text/plain": [
       "{'input': 'tell me about your self ',\n",
       " 'history': '',\n",
       " 'response': 'Nice to meet you! I\\'m an artificial intelligence language model, which means I\\'m a computer program designed to understand and generate human-like text. My creators call me \"LLaMA\" (Large Language Model Application), and I\\'m a type of transformer-based architecture, if you\\'re familiar with that. I was trained on a massive dataset of text from the internet, which allows me to generate responses to a wide range of topics and questions.\\n\\nI have about 1.5 billion parameters, which is a fancy way of saying I have a lot of \"brainpower\" to process and understand language. My training dataset consists of around '}"
      ]
     },
     "execution_count": 16,
     "metadata": {},
     "output_type": "execute_result"
    }
   ],
   "source": [
    "# demo_conversation(\"tell me about your self \",demo_memory())"
   ]
  },
  {
   "cell_type": "code",
   "execution_count": null,
   "metadata": {},
   "outputs": [],
   "source": []
  }
 ],
 "metadata": {
  "kernelspec": {
   "display_name": "venv",
   "language": "python",
   "name": "python3"
  },
  "language_info": {
   "codemirror_mode": {
    "name": "ipython",
    "version": 3
   },
   "file_extension": ".py",
   "mimetype": "text/x-python",
   "name": "python",
   "nbconvert_exporter": "python",
   "pygments_lexer": "ipython3",
   "version": "3.12.5"
  }
 },
 "nbformat": 4,
 "nbformat_minor": 2
}
